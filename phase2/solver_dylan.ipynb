{
 "cells": [
  {
   "cell_type": "markdown",
   "metadata": {},
   "source": [
    "# Dylan's Solvers"
   ]
  },
  {
   "cell_type": "markdown",
   "metadata": {},
   "source": [
    "### Facility Location"
   ]
  },
  {
   "cell_type": "markdown",
   "metadata": {},
   "source": [
    "High level outline:\n",
    "* Placing locations to minimize something (where to drop off to minimize energy)\n",
    "* Use approximation alg/solver\n",
    "* Mark drop off locations (iterate through 1 → #homes locations)\n",
    "* Then find tour through locations (shortest path run each time)\n",
    "* Think about k means too\n"
   ]
  },
  {
   "cell_type": "markdown",
   "metadata": {},
   "source": [
    "Facility Location Problem Notes:\n",
    "* Clients: Homes\n",
    "* Facilities: All other points as potential facilities \n",
    "* distance function (can run dijkstras or something)\n",
    "* cost function: no cost for placing\n",
    "* minimize 2/3 * distance from start + 1 * distance to closest homes in the \"cluster\""
   ]
  },
  {
   "cell_type": "markdown",
   "metadata": {},
   "source": [
    "Plan:\n",
    "* Try older approximation algorithms\n",
    "* Try newer k clustering ones\n",
    "* Try some form of k means (?)"
   ]
  },
  {
   "cell_type": "markdown",
   "metadata": {},
   "source": [
    "### Uncapacitated FLP - if it's not metric \n",
    "* choose U = {all homes}\n",
    "* S = {(i, A) for i in all other pointes and A in homes (choose every subset)}\n",
    "* Use standard greedy for set cover: choose (i, A) that minimizes cost(i, A)/|(A intersect uncovered)|\n",
    "* intuitively this picks a smaller cost that covers more\n",
    "* libraries may exist to solve set cover\n",
    "* dlx solves exact cover which is probably better\n",
    "\n",
    "### Todo\n",
    "* distance to each point currently in the set and reward ones that are closer (minimize this) - consider dist to other facilities into cost\n",
    "* try other two fixes for metric and for adding the minimum of every distance"
   ]
  },
  {
   "cell_type": "code",
   "execution_count": 150,
   "metadata": {},
   "outputs": [],
   "source": [
    "import networkx as nx\n",
    "import numpy as np\n",
    "import matplotlib.pyplot as plt\n",
    "import matplotlib.patches as mpatches\n",
    "from matplotlib.lines import Line2D\n",
    "\n",
    "import sys\n",
    "sys.path.append('..')\n",
    "from student_utils import adjacency_matrix_to_graph, is_valid_walk, cost_of_solution, convert_locations_to_indices\n",
    "from solver_utils import parse_input\n",
    "from visualize import plot_graph\n",
    "from solver import solve"
   ]
  },
  {
   "cell_type": "code",
   "execution_count": null,
   "metadata": {},
   "outputs": [],
   "source": []
  },
  {
   "cell_type": "code",
   "execution_count": 148,
   "metadata": {},
   "outputs": [
    {
     "ename": "SyntaxError",
     "evalue": "invalid syntax (<ipython-input-148-876fca2eb208>, line 6)",
     "output_type": "error",
     "traceback": [
      "\u001b[0;36m  File \u001b[0;32m\"<ipython-input-148-876fca2eb208>\"\u001b[0;36m, line \u001b[0;32m6\u001b[0m\n\u001b[0;31m    params=[]):\u001b[0m\n\u001b[0m         ^\u001b[0m\n\u001b[0;31mSyntaxError\u001b[0m\u001b[0;31m:\u001b[0m invalid syntax\n"
     ]
    }
   ],
   "source": [
    "from collections import defaultdict\n",
    "def flp_solve(list_of_locations,\n",
    "                  list_of_homes,\n",
    "                  starting_car_location,\n",
    "                  adjacency_matrix, solve,\n",
    "                  params=[]):\n",
    "    mapping = defaultdict(int)\n",
    "    for i in range(len(list_of_locations)):\n",
    "        mapping[list_of_locations[i]] = i\n",
    "    G, _ = adjacency_matrix_to_graph(adjacency_matrix)\n",
    "    U = list_of_homes\n",
    "    facilities = list_of_locations\n",
    "    start = starting_car_location\n",
    "    paths, distances = nx.floyd_warshall_predecessor_and_distance(G, weight='weight')\n",
    "#     print(distances)\n",
    "#     print(paths)\n",
    "    print(\"ran all pairs\")\n",
    "    # Builds set S in polynomial time as opposed to powerset (exponential)\n",
    "    def buildS():\n",
    "        res = []\n",
    "        for f in facilities:\n",
    "            for s in range(1, len(U)):\n",
    "                sorted_dist = sorted([(target, distances[mapping[f]][mapping[target]]) for target in U], key=lambda x: x[1])\n",
    "                sorted_dist = sorted_dist[:s]\n",
    "                A = set([t for t, _ in sorted_dist])\n",
    "                cost = sum([s[1] for s in sorted_dist]) + (2/3) * distances[mapping[start]][mapping[f]]\n",
    "                elem = {'facility': f, \n",
    "                        'A': A, \n",
    "                        'count': s, \n",
    "                        'cost': cost\n",
    "                       } # facility, dictionary to see which elements are present, num elements, cost\n",
    "                res.append(elem)\n",
    "        return res\n",
    "    S = buildS()\n",
    "    print(\"Built S\")\n",
    "    uncovered = set(U)\n",
    "    lst = [(s['cost']/s['count'], hash(s['facility'] + str(s['count'])), s) for s in S]\n",
    "    result = set([])\n",
    "    dropoff_mapping = defaultdict(list)\n",
    "    while uncovered:\n",
    "        smallest = min(lst, key = lambda x: x[0])\n",
    "        lst.remove(smallest)\n",
    "        smallest = smallest[2]\n",
    "        result.add(smallest['facility'])\n",
    "        dropoff_mapping[smallest['facility']] = list(smallest['A'])\n",
    "        uncovered = uncovered.difference(smallest['A'])\n",
    "        new_lst = []\n",
    "        for _, h, elem in lst:\n",
    "            if solve == 1:\n",
    "                if elem['facility'] in result:\n",
    "                    elem['cost'] -= distances[mapping[start]][mapping[elem['facility']]]\n",
    "            if solve == 2:\n",
    "                if elem['facility'] not in result:\n",
    "                    elem['cost'] = sum([distances[mapping[s]][mapping[elem['facility']]] for s in elem['A']]) + (1/4) * sum([distances[mapping[r]][mapping[elem['facility']]] for r in result if r != start])\n",
    "            intersect = len(elem['A'].intersection(uncovered))\n",
    "            new_cost = float('inf')\n",
    "            if intersect > 0:\n",
    "                new_cost = elem['cost']/intersect\n",
    "            new_lst.append((new_cost, h, elem))\n",
    "        lst = new_lst\n",
    "    print(\"computed dropoffs\")\n",
    "    #finding path between all\n",
    "    traversal = [mapping[start]]\n",
    "    dists = [(distances[traversal[-1]][mapping[r]], mapping[r]) for r in list(result) if r != start]\n",
    "    dropoffs = [mapping[start]] if start in result else []\n",
    "    print(\"computing traversal\")\n",
    "    def reconstruct_path(source, target, predecessors):\n",
    "        if source == target:\n",
    "            return []\n",
    "        prev = predecessors[source]\n",
    "        curr = prev[target]\n",
    "        path = [target, curr]\n",
    "        while curr != source:\n",
    "            curr = prev[curr]\n",
    "            path.append(curr)\n",
    "        return list(reversed(path))\n",
    "        \n",
    "    while dists:\n",
    "        n = min(dists, key= lambda x: x[0])\n",
    "        dists.remove(n)\n",
    "        n = n[1]\n",
    "        dropoffs.append(n)\n",
    "        traversal.extend(reconstruct_path(traversal[-1], n, paths)[1:])\n",
    "        dists = [(distances[traversal[-1]][r], r) for _, r in dists]\n",
    "    traversal.extend(reconstruct_path(traversal[-1], mapping[start], paths)[1:]) \n",
    "    print(\"done\")\n",
    "#     dropoffs_dict = {key: dropoff_mapping[key] for key in dropoff_mapping}\n",
    "    dropoffs_dict = defaultdict(list)\n",
    "    for h in convert_locations_to_indices(list_of_homes, list_of_locations):\n",
    "        minValue = float('inf')\n",
    "        minVertex = mapping[start]\n",
    "        for i in traversal:\n",
    "            if distances[h][i] < minValue:\n",
    "                minValue = distances[h][i]\n",
    "                minVertex = i\n",
    "        dropoffs_dict[minVertex].append(h)\n",
    "    dropoffs_dict = {key: dropoffs_dict[key] for key in dropoffs_dict}\n",
    "    return traversal, dropoffs_dict\n"
   ]
  },
  {
   "cell_type": "code",
   "execution_count": 153,
   "metadata": {
    "scrolled": true
   },
   "outputs": [
    {
     "name": "stdout",
     "output_type": "stream",
     "text": [
      "Cost of MST 343.0890666666665\n",
      "The driving cost of your solution is 343.0890666666665.\n",
      "The walking cost of your solution is 0.\n",
      "The total cost of your solution is 343.0890666666665.\n",
      "\n",
      "ran all pairs\n",
      "Built S\n",
      "computed dropoffs\n",
      "computing traversal\n",
      "done\n",
      "Cost of FLP 168.70550000000003\n",
      "The driving cost of your solution is 33.724599999999995.\n",
      "The walking cost of your solution is 134.98090000000002.\n",
      "The total cost of your solution is 168.70550000000003.\n",
      "\n",
      "COst of Solver 134.7924666666667\n",
      "The driving cost of your solution is 90.5898666666667.\n",
      "The walking cost of your solution is 44.202600000000004.\n",
      "The total cost of your solution is 134.7924666666667.\n",
      "\n"
     ]
    }
   ],
   "source": [
    "# input_path = './test_inputs/branching_20v_10h.in'\n",
    "input_path = '../inputs/164_100.in'\n",
    "# input_path = '../phase1/100.in'\n",
    "(num_locations,\n",
    " num_houses,\n",
    " location_names,\n",
    " house_names,\n",
    " source,\n",
    " adj) = parse_input(input_path)\n",
    "\n",
    "#MST\n",
    "G, _ = adjacency_matrix_to_graph(adj)\n",
    "traversal, dropoffs, _ = mst_dfs_solve(location_names, house_names, source, adj)\n",
    "total, msg = cost_of_solution(G, traversal, dropoffs)\n",
    "print(\"Cost of MST\", total)\n",
    "print(msg)\n",
    "\n",
    "#FLP\n",
    "traversal, dropoffs = flp_solve(location_names, house_names, source, adj, 0)\n",
    "total, msg = cost_of_solution(G, traversal, dropoffs)\n",
    "print(\"Cost of FLP\", total)\n",
    "print(msg)\n",
    "\n",
    "#Final Solver\n",
    "traversal, dropoffs = solve(location_names, house_names, source, adj)\n",
    "total, msg = cost_of_solution(G, traversal, dropoffs)\n",
    "print(\"Cost of Solver\", total)\n",
    "print(msg)\n",
    "\n",
    "edges_to_draw = []\n",
    "for i in range(len(traversal) - 1):\n",
    "    u, v = traversal[i], traversal[i + 1]\n",
    "    edges_to_draw.append((u, v))\n",
    "print(\"plotting ...\") \n",
    "plot_graph(input_path,\n",
    "           layout_style=nx.kamada_kawai_layout,\n",
    "           show_edge_weights=False,\n",
    "           edges_to_draw=edges_to_draw,\n",
    "           directed=True)"
   ]
  },
  {
   "cell_type": "code",
   "execution_count": null,
   "metadata": {},
   "outputs": [],
   "source": []
  },
  {
   "cell_type": "markdown",
   "metadata": {},
   "source": [
    "### Naive Solver"
   ]
  },
  {
   "cell_type": "code",
   "execution_count": 140,
   "metadata": {},
   "outputs": [],
   "source": [
    "def mst_dfs_solve(list_of_locations,\n",
    "                  list_of_homes,\n",
    "                  starting_car_location,\n",
    "                  adjacency_matrix,\n",
    "                  params=[]):\n",
    "    G, _ = adjacency_matrix_to_graph(adjacency_matrix)\n",
    "    \n",
    "    mst = nx.minimum_spanning_tree(G)\n",
    "    seen = set()\n",
    "    traversal = []\n",
    "    def dfs(u):\n",
    "        if u not in seen:\n",
    "            traversal.append(u)\n",
    "            seen.add(u)\n",
    "            for v in mst.neighbors(u):\n",
    "                if v not in seen:\n",
    "                    dfs(v)\n",
    "                    traversal.append(u)\n",
    "    dfs(list_of_locations.index(starting_car_location))\n",
    "    \n",
    "    dropoffs = {\n",
    "        home: [home] for home in list_of_homes \n",
    "    }\n",
    "    dropoffs = {location_names.index(key): convert_locations_to_indices(dropoffs[key], location_names) for key in dropoffs}\n",
    "    return traversal, dropoffs"
   ]
  },
  {
   "cell_type": "code",
   "execution_count": 12,
   "metadata": {},
   "outputs": [],
   "source": [
    "def dijkstra_greedy_solve(list_of_locations,\n",
    "                          list_of_homes,\n",
    "                          starting_car_location,\n",
    "                          adjacency_matrix,\n",
    "                          params=[]):\n",
    "    G, _ = adjacency_matrix_to_graph(adjacency_matrix)\n",
    "    remaining = set([list_of_locations.index(name) for name in list_of_homes])\n",
    "    source = curr = list_of_locations.index(starting_car_location)\n",
    "    \n",
    "    path = []\n",
    "    \n",
    "    # Continue looping until no more TAs to drop off\n",
    "    while remaining:\n",
    "#         print(f\"\\n==== AT NODE #{curr} ====\")\n",
    "        path.append(curr)\n",
    "        \n",
    "        if curr in remaining:\n",
    "#             print(f\"DROPPED TA OFF AT {curr}\")\n",
    "            remaining.remove(curr)\n",
    "\n",
    "        # Which direction should we move (if at all)?\n",
    "        heuristics = {}\n",
    "        for n in G.neighbors(curr):\n",
    "#             print(n)\n",
    "            distances, paths = nx.single_source_dijkstra(G, n)\n",
    "            heuristics[n] = 0\n",
    "            for h in remaining:\n",
    "#                 if n == h:\n",
    "#                     heuristics[n] += 2.0 # TODO: What should the heuristic be if you're at a house?\n",
    "#                                          # Maybe just define as 1 / dist + 1\n",
    "#                 else:\n",
    "#                     heuristics[n] += 1 / distances[h]\n",
    "                heuristics[n] += (1 / (distances[h] + 1)) ** 2 # 1/(dist+1)^2 heavily incentives closer houses\n",
    "#             print(f\"DISTANCES FROM {n}\", distances)\n",
    "        \n",
    "#         print(\"HEURISTICS: \", heuristics)\n",
    "        best_neighbor = max(list(heuristics.keys()), key=heuristics.get)\n",
    "#         print(\"BEST NEIGHBOR: \", best_neighbor)\n",
    "        curr = best_neighbor\n",
    "\n",
    "    if curr != source:\n",
    "        sp = nx.shortest_path(G, source=curr, target=source, weight='weight')\n",
    "        path += sp\n",
    "    \n",
    "    dropoffs = {\n",
    "        home: [home] for home in list_of_homes \n",
    "    }\n",
    "\n",
    "    return path, dropoffs"
   ]
  },
  {
   "cell_type": "code",
   "execution_count": 104,
   "metadata": {},
   "outputs": [
    {
     "ename": "AttributeError",
     "evalue": "module 'networkx' has no attribute 'reconstruct_path'",
     "output_type": "error",
     "traceback": [
      "\u001b[0;31m---------------------------------------------------------------------------\u001b[0m",
      "\u001b[0;31mAttributeError\u001b[0m                            Traceback (most recent call last)",
      "\u001b[0;32m<ipython-input-104-8bcaed694b63>\u001b[0m in \u001b[0;36m<module>\u001b[0;34m()\u001b[0m\n\u001b[1;32m      4\u001b[0m     ('x', 'v', 5), ('x', 'y', 2), ('y', 's', 7), ('y', 'v', 6)])\n\u001b[1;32m      5\u001b[0m \u001b[0mpredecessors\u001b[0m\u001b[0;34m,\u001b[0m \u001b[0m_\u001b[0m \u001b[0;34m=\u001b[0m \u001b[0mnx\u001b[0m\u001b[0;34m.\u001b[0m\u001b[0mfloyd_warshall_predecessor_and_distance\u001b[0m\u001b[0;34m(\u001b[0m\u001b[0mG\u001b[0m\u001b[0;34m)\u001b[0m\u001b[0;34m\u001b[0m\u001b[0m\n\u001b[0;32m----> 6\u001b[0;31m \u001b[0mprint\u001b[0m\u001b[0;34m(\u001b[0m\u001b[0mnx\u001b[0m\u001b[0;34m.\u001b[0m\u001b[0mreconstruct_path\u001b[0m\u001b[0;34m(\u001b[0m\u001b[0;34m's'\u001b[0m\u001b[0;34m,\u001b[0m \u001b[0;34m'v'\u001b[0m\u001b[0;34m,\u001b[0m \u001b[0mpredecessors\u001b[0m\u001b[0;34m)\u001b[0m\u001b[0;34m)\u001b[0m\u001b[0;34m\u001b[0m\u001b[0m\n\u001b[0m",
      "\u001b[0;31mAttributeError\u001b[0m: module 'networkx' has no attribute 'reconstruct_path'"
     ]
    }
   ],
   "source": [
    "G = nx.DiGraph()\n",
    "def reconstruct_path(source, target, predecessors):\n",
    "    if source == target:\n",
    "        return []\n",
    "    prev = predecessors[source]\n",
    "    curr = prev[target]\n",
    "    path = [target, curr]\n",
    "    while curr != source:\n",
    "        curr = prev[curr]\n",
    "        path.append(curr)\n",
    "    return list(reversed(path))\n",
    "G.add_weighted_edges_from([('s', 'u', 10), ('s', 'x', 5),\n",
    "    ('u', 'v', 1), ('u', 'x', 2), ('v', 'y', 1), ('x', 'u', 3),\n",
    "    ('x', 'v', 5), ('x', 'y', 2), ('y', 's', 7), ('y', 'v', 6)])\n",
    "predecessors, _ = nx.floyd_warshall_predecessor_and_distance(G)\n",
    "print(nx.reconstruct_path('s', 'v', predecessors))\n"
   ]
  },
  {
   "cell_type": "code",
   "execution_count": null,
   "metadata": {},
   "outputs": [],
   "source": []
  }
 ],
 "metadata": {
  "kernelspec": {
   "display_name": "Python 3",
   "language": "python",
   "name": "python3"
  },
  "language_info": {
   "codemirror_mode": {
    "name": "ipython",
    "version": 3
   },
   "file_extension": ".py",
   "mimetype": "text/x-python",
   "name": "python",
   "nbconvert_exporter": "python",
   "pygments_lexer": "ipython3",
   "version": "3.6.5"
  }
 },
 "nbformat": 4,
 "nbformat_minor": 2
}
