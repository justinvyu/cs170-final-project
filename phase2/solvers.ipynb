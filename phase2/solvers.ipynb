{
 "cells": [
  {
   "cell_type": "code",
   "execution_count": null,
   "metadata": {},
   "outputs": [],
   "source": [
    "import networkx as nx\n",
    "import numpy as np\n",
    "import matplotlib.pyplot as plt\n",
    "import matplotlib.patches as mpatches\n",
    "from matplotlib.lines import Line2D\n",
    "\n",
    "import sys\n",
    "sys.path.append('..')\n",
    "from student_utils import adjacency_matrix_to_graph\n",
    "from solver_utils import parse_input\n",
    "from visualize import plot_graph\n",
    "\n",
    "%matplotlib inline"
   ]
  },
  {
   "cell_type": "code",
   "execution_count": null,
   "metadata": {},
   "outputs": [],
   "source": [
    "solvers = {\n",
    "    'MST+DFS': mst_dfs_solve,\n",
    "}"
   ]
  },
  {
   "cell_type": "code",
   "execution_count": null,
   "metadata": {},
   "outputs": [],
   "source": [
    "\"\"\"\n",
    "Solve Interface\n",
    "Input:\n",
    "    list_of_locations: A list of locations such that node i of the graph corresponds to name at index i of the list\n",
    "    list_of_homes: A list of homes\n",
    "    starting_car_location: The name of the starting location for the car\n",
    "    adjacency_matrix: The adjacency matrix from the input file\n",
    "Output:\n",
    "    A list of locations representing the car path\n",
    "    A dictionary mapping drop-off location to a list of homes of TAs that got off at that particular location\n",
    "    NOTE: both outputs should be in terms of indices not the names of the locations themselves\n",
    "\"\"\""
   ]
  },
  {
   "cell_type": "markdown",
   "metadata": {},
   "source": [
    "## Solver 1: MST + DFS\n",
    "\n",
    "Idea: similar to the 2x approximation algorithm for MetricTSP, but in this case, we may not be able to remove every duplicate vertex seen (after its first occurence), because the original graph is not necessarily fully connected. Thus, we can only skip vertices when it is possible (i.e. there is an edge to take the shortcut). In this tour, we will drop everyone off at their house. No TA needs to walk.\n",
    "\n",
    "Graphs that this is bad for:\n",
    "- Branching graphs (lots of driving back and forth, where walking would be more optimal\n",
    "\n",
    "Graphs that this is good for:\n",
    "- Very connected graphs"
   ]
  },
  {
   "cell_type": "code",
   "execution_count": null,
   "metadata": {},
   "outputs": [],
   "source": [
    "def mst_dfs_solve(list_of_locations,\n",
    "                  list_of_homes,\n",
    "                  starting_car_location,\n",
    "                  adjacency_matrix,\n",
    "                  params=[]):\n",
    "    G, _ = adjacency_matrix_to_graph(adjacency_matrix)\n",
    "    \n",
    "    mst = nx.minimum_spanning_tree(G)\n",
    "    seen = set()\n",
    "    traversal = []\n",
    "    def dfs(u):\n",
    "        if u not in seen:\n",
    "            traversal.append(u)\n",
    "            seen.add(u)\n",
    "            for v in mst.neighbors(u):\n",
    "                if v not in seen:\n",
    "                    dfs(v)\n",
    "                    traversal.append(u)\n",
    "    dfs(list_of_locations.index(starting_car_location))\n",
    "    \n",
    "    dropoffs = {\n",
    "        home: home for home in list_of_homes \n",
    "    }\n",
    "    return traversal, dropoffs, mst"
   ]
  },
  {
   "cell_type": "code",
   "execution_count": null,
   "metadata": {},
   "outputs": [],
   "source": [
    "input_path = './test_inputs/random_6v_3h.in'\n",
    "(num_locations,\n",
    " num_houses,\n",
    " location_names,\n",
    " house_names,\n",
    " source,\n",
    " adj) = parse_input(input_path)\n",
    "\n",
    "G, _ = adjacency_matrix_to_graph(adj)\n",
    "traversal, dropoffs = mst_dfs_solve(location_names, house_names, source, adj)\n",
    "print(traversal)"
   ]
  },
  {
   "cell_type": "code",
   "execution_count": null,
   "metadata": {},
   "outputs": [],
   "source": [
    "edges_to_draw = []\n",
    "for i in range(len(traversal) - 1):\n",
    "    u, v = traversal[i], traversal[i + 1]\n",
    "    edges_to_draw.append((u, v))\n",
    "\n",
    "plot_graph(input_path,\n",
    "           layout_style=nx.kamada_kawai_layout,\n",
    "           show_edge_weights=True,\n",
    "           edges_to_draw=edges_to_draw,\n",
    "           directed=True)"
   ]
  },
  {
   "cell_type": "code",
   "execution_count": null,
   "metadata": {},
   "outputs": [],
   "source": [
    "input_path = './test_inputs/branching_10v_5h.in'"
   ]
  },
  {
   "cell_type": "markdown",
   "metadata": {},
   "source": [
    "## Solver 2: Dijkstra's at each vertex"
   ]
  },
  {
   "cell_type": "code",
   "execution_count": null,
   "metadata": {},
   "outputs": [],
   "source": [
    "def dijkstra_greedy_solve(list_of_locations,\n",
    "                          list_of_homes,\n",
    "                          starting_car_location,\n",
    "                          adjacency_matrix,\n",
    "                          params=[]):\n",
    "    G, _ = adjacency_matrix_to_graph(adjacency_matrix)\n",
    "    remaining = set([list_of_locations.index(name) for name in list_of_homes])\n",
    "    source = curr = list_of_locations.index(starting_car_location)\n",
    "    \n",
    "    path = []\n",
    "    \n",
    "    # Continue looping until no more TAs to drop off\n",
    "    while remaining:\n",
    "        print(f\"\\n==== AT NODE #{curr} ====\")\n",
    "        path.append(curr)\n",
    "        \n",
    "        if curr in remaining:\n",
    "            print(f\"DROPPED TA OFF AT {curr}\")\n",
    "            remaining.remove(curr)\n",
    "\n",
    "        # Which direction should we move (if at all)?\n",
    "        heuristics = {}\n",
    "        for n in G.neighbors(curr):\n",
    "            print(n)\n",
    "            distances, paths = nx.single_source_dijkstra(G, n)\n",
    "            heuristics[n] = 0\n",
    "            for h in remaining:\n",
    "#                 if n == h:\n",
    "#                     heuristics[n] += 2.0 # TODO: What should the heuristic be if you're at a house?\n",
    "#                                          # Maybe just define as 1 / dist + 1\n",
    "#                 else:\n",
    "#                     heuristics[n] += 1 / distances[h]\n",
    "                heuristics[n] += (1 / (distances[h] + 1)) ** 2 # 1/(dist+1)^2 heavily incentives closer houses\n",
    "            print(f\"DISTANCES FROM {n}\", distances)\n",
    "        \n",
    "        print(\"HEURISTICS: \", heuristics)\n",
    "        best_neighbor = max(list(heuristics.keys()), key=heuristics.get)\n",
    "        print(\"BEST NEIGHBOR: \", best_neighbor)\n",
    "        curr = best_neighbor\n",
    "\n",
    "    if curr != source:\n",
    "        sp = nx.shortest_path(G, source=curr, target=source, weight='weight')\n",
    "        path += sp\n",
    "\n",
    "    return path"
   ]
  },
  {
   "cell_type": "code",
   "execution_count": null,
   "metadata": {},
   "outputs": [],
   "source": [
    "# input_path = './test_inputs/random_6v_3h.in'\n",
    "input_path = '../phase1/50.in'\n",
    "(num_locations,\n",
    " num_houses,\n",
    " location_names,\n",
    " house_names,\n",
    " source,\n",
    " adj) = parse_input(input_path)\n",
    "G, _ = adjacency_matrix_to_graph(adj)\n",
    "path = dijkstra_greedy_solve(location_names, house_names, source, adj)"
   ]
  },
  {
   "cell_type": "code",
   "execution_count": null,
   "metadata": {},
   "outputs": [],
   "source": [
    "def draw_path(G, path):\n",
    "    edges_to_draw = []\n",
    "    for i in range(len(path) - 1):\n",
    "        u, v = path[i], path[i + 1]\n",
    "        edges_to_draw.append((u, v))\n",
    "    plot_graph(input_path,\n",
    "               layout_style=nx.kamada_kawai_layout,\n",
    "               show_edge_weights=True,\n",
    "               edges_to_draw=edges_to_draw,\n",
    "               directed=True)\n",
    "\n",
    "print(\"PATH: \", path)\n",
    "draw_path(G, path)"
   ]
  },
  {
   "cell_type": "code",
   "execution_count": null,
   "metadata": {},
   "outputs": [],
   "source": [
    "plot_graph(input_path,\n",
    "           layout_style=nx.kamada_kawai_layout,\n",
    "           show_edge_weights=True,\n",
    "#            edges_to_draw=edges_to_draw,\n",
    "           directed=True)"
   ]
  },
  {
   "cell_type": "code",
   "execution_count": null,
   "metadata": {},
   "outputs": [],
   "source": []
  }
 ],
 "metadata": {
  "kernelspec": {
   "display_name": "Python 3",
   "language": "python",
   "name": "python3"
  },
  "language_info": {
   "codemirror_mode": {
    "name": "ipython",
    "version": 3
   },
   "file_extension": ".py",
   "mimetype": "text/x-python",
   "name": "python",
   "nbconvert_exporter": "python",
   "pygments_lexer": "ipython3",
   "version": "3.6.4"
  }
 },
 "nbformat": 4,
 "nbformat_minor": 2
}
